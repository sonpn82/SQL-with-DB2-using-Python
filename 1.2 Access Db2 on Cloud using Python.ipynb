{
 "metadata": {
  "language_info": {
   "codemirror_mode": {
    "name": "ipython",
    "version": 3
   },
   "file_extension": ".py",
   "mimetype": "text/x-python",
   "name": "python",
   "nbconvert_exporter": "python",
   "pygments_lexer": "ipython3",
   "version": "3.8.8"
  },
  "orig_nbformat": 4,
  "kernelspec": {
   "name": "python3",
   "display_name": "Python 3.8.8 64-bit ('base': conda)"
  },
  "interpreter": {
   "hash": "c0f70214c0dd213f07f54ee5d6e0ea644bdbba35113c9bfe8aaa0d1db03ad5dd"
  }
 },
 "nbformat": 4,
 "nbformat_minor": 2,
 "cells": [
  {
   "source": [
    "# IBM Developer Skills Network"
   ],
   "cell_type": "markdown",
   "metadata": {}
  },
  {
   "source": [
    "## Access Db2 on cloud using Python"
   ],
   "cell_type": "markdown",
   "metadata": {}
  },
  {
   "cell_type": "code",
   "execution_count": 26,
   "metadata": {},
   "outputs": [],
   "source": [
    "import ibm_db\n",
    "import pandas as pd"
   ]
  },
  {
   "source": [
    "# Get the user id, passwd for IBM Db2 instance on cloud"
   ],
   "cell_type": "markdown",
   "metadata": {}
  },
  {
   "cell_type": "code",
   "execution_count": 27,
   "metadata": {},
   "outputs": [],
   "source": [
    "path = 'G:\\Google Drive\\My learning courses\\IBM Db2 connection.csv'\n",
    "df = pd.read_csv(path)"
   ]
  },
  {
   "cell_type": "code",
   "execution_count": 28,
   "metadata": {},
   "outputs": [],
   "source": [
    "dsn_hostname = df.value[0]\n",
    "dsn_uid = df.value[1]\n",
    "dsn_pwd = df.value[2]\n",
    "\n",
    "dsn_driver = \"{IBM DB2 ODBC DRIVER}\"\n",
    "dsn_database = \"BLUDB\"            # e.g. \"BLUDB\"\n",
    "dsn_port = \"50000\"                # e.g. \"50000\" \n",
    "dsn_protocol = \"TCPIP\"            # i.e. \"TCPIP\""
   ]
  },
  {
   "source": [
    "# Create the DB2 database connection"
   ],
   "cell_type": "markdown",
   "metadata": {}
  },
  {
   "cell_type": "code",
   "execution_count": 29,
   "metadata": {},
   "outputs": [],
   "source": [
    "#Create the dsn connection string\n",
    "dsn = (\n",
    "    \"DRIVER={0};\"\n",
    "    \"DATABASE={1};\"\n",
    "    \"HOSTNAME={2};\"\n",
    "    \"PORT={3};\"\n",
    "    \"PROTOCOL={4};\"\n",
    "    \"UID={5};\"\n",
    "    \"PWD={6};\").format(dsn_driver, dsn_database, dsn_hostname, dsn_port, dsn_protocol, dsn_uid, dsn_pwd)"
   ]
  },
  {
   "cell_type": "code",
   "execution_count": 30,
   "metadata": {},
   "outputs": [
    {
     "output_type": "stream",
     "name": "stdout",
     "text": [
      "Connected to database!\n"
     ]
    }
   ],
   "source": [
    "# Create database connection\n",
    "try:\n",
    "    conn = ibm_db.connect(dsn, '', '')\n",
    "    print('Connected to database!')\n",
    "except:\n",
    "    print ('Unable to connect: ', ibm_db.conn_errormsg())"
   ]
  },
  {
   "source": [
    "# Create a table in the database"
   ],
   "cell_type": "markdown",
   "metadata": {}
  },
  {
   "cell_type": "code",
   "execution_count": 31,
   "metadata": {},
   "outputs": [
    {
     "output_type": "stream",
     "name": "stdout",
     "text": [
      "Success drop table INSTRUCTOR\n",
      "Table INSTRUCTOR Created!\n"
     ]
    }
   ],
   "source": [
    "dropQuery = 'drop table INSTRUCTOR'\n",
    "\n",
    "# Delete the table if it was already created before\n",
    "try:\n",
    "    dropStmt = ibm_db.exec_immediate(conn, dropQuery)\n",
    "    print('Success drop table INSTRUCTOR')\n",
    "except:\n",
    "    print('Table INSTRUCTOR not existed!')\n",
    "\n",
    "# Create the INSTRUCTOR table\n",
    "createQuery = \"create table INSTRUCTOR(ID INTEGER PRIMARY KEY NOT NULL, FNAME VARCHAR(20), LNAME VARCHAR(20), CITY VARCHAR(20), CCODE CHAR(2))\"\n",
    "\n",
    "createStmt = ibm_db.exec_immediate(conn, createQuery)\n",
    "print('Table INSTRUCTOR Created!')"
   ]
  },
  {
   "cell_type": "code",
   "execution_count": 32,
   "metadata": {},
   "outputs": [],
   "source": [
    "# Insert data into table\n",
    "insertQuery = \"insert into INSTRUCTOR values (1, 'Rav', 'Ahuja', 'TORONTO', 'CA')\"\n",
    "\n",
    "#execute the insert statement\n",
    "insertStmt = ibm_db.exec_immediate(conn, insertQuery)"
   ]
  },
  {
   "cell_type": "code",
   "execution_count": 33,
   "metadata": {},
   "outputs": [],
   "source": [
    "# Insert the next 2 data rows\n",
    "insertQuery2 = \"insert into INSTRUCTOR values (2, 'Raul', 'Chong', 'Markham', 'CA'), (3, 'Hima', 'Vasudevan', 'Chicago', 'US')\"\n",
    "\n",
    "#execute the statement\n",
    "insertStmt2 = ibm_db.exec_immediate(conn, insertQuery2)"
   ]
  },
  {
   "source": [
    "# Query data in the table"
   ],
   "cell_type": "markdown",
   "metadata": {}
  },
  {
   "cell_type": "code",
   "execution_count": 34,
   "metadata": {},
   "outputs": [
    {
     "output_type": "execute_result",
     "data": {
      "text/plain": [
       "{'ID': 1,\n",
       " 0: 1,\n",
       " 'FNAME': 'Rav',\n",
       " 1: 'Rav',\n",
       " 'LNAME': 'Ahuja',\n",
       " 2: 'Ahuja',\n",
       " 'CITY': 'TORONTO',\n",
       " 3: 'TORONTO',\n",
       " 'CCODE': 'CA',\n",
       " 4: 'CA'}"
      ]
     },
     "metadata": {},
     "execution_count": 34
    }
   ],
   "source": [
    "selectQuery = 'select * from INSTRUCTOR'\n",
    "selectStmt = ibm_db.exec_immediate(conn, selectQuery)\n",
    "ibm_db.fetch_both(selectStmt) # 1st row"
   ]
  },
  {
   "cell_type": "code",
   "execution_count": 35,
   "metadata": {},
   "outputs": [
    {
     "output_type": "stream",
     "name": "stdout",
     "text": [
      " ID: 2  FNAME: Raul\n ID: 3  FNAME: Hima\n"
     ]
    }
   ],
   "source": [
    "#Fetch the rest of the rows and print the ID and FNAME for those rows\n",
    "while ibm_db.fetch_row(selectStmt) != False:\n",
    "   print (\" ID:\",  ibm_db.result(selectStmt, 0), \" FNAME:\",  ibm_db.result(selectStmt, \"FNAME\"))"
   ]
  },
  {
   "source": [
    "## Update statement"
   ],
   "cell_type": "markdown",
   "metadata": {}
  },
  {
   "cell_type": "code",
   "execution_count": 36,
   "metadata": {},
   "outputs": [],
   "source": [
    "updateQuery = \"update INSTRUCTOR set CITY='MOOSETOWN' where FNAME='Rav'\"\n",
    "updateStmt = ibm_db.exec_immediate(conn, updateQuery)"
   ]
  },
  {
   "source": [
    "# Retrieve data into Pandas"
   ],
   "cell_type": "markdown",
   "metadata": {}
  },
  {
   "cell_type": "code",
   "execution_count": 37,
   "metadata": {},
   "outputs": [],
   "source": [
    "import ibm_db_dbi\n",
    "\n",
    "pconn = ibm_db_dbi.Connection(conn)"
   ]
  },
  {
   "cell_type": "code",
   "execution_count": 38,
   "metadata": {},
   "outputs": [
    {
     "output_type": "execute_result",
     "data": {
      "text/plain": [
       "'Ahuja'"
      ]
     },
     "metadata": {},
     "execution_count": 38
    }
   ],
   "source": [
    "selectQuery = 'select * from INSTRUCTOR'\n",
    "\n",
    "# to pandas frame\n",
    "pdf = pd.read_sql(selectQuery, pconn)\n",
    "\n",
    "pdf.LNAME[0]"
   ]
  },
  {
   "cell_type": "code",
   "execution_count": 39,
   "metadata": {},
   "outputs": [
    {
     "output_type": "execute_result",
     "data": {
      "text/plain": [
       "   ID FNAME      LNAME       CITY CCODE\n",
       "0   1   Rav      Ahuja  MOOSETOWN    CA\n",
       "1   2  Raul      Chong    Markham    CA\n",
       "2   3  Hima  Vasudevan    Chicago    US"
      ],
      "text/html": "<div>\n<style scoped>\n    .dataframe tbody tr th:only-of-type {\n        vertical-align: middle;\n    }\n\n    .dataframe tbody tr th {\n        vertical-align: top;\n    }\n\n    .dataframe thead th {\n        text-align: right;\n    }\n</style>\n<table border=\"1\" class=\"dataframe\">\n  <thead>\n    <tr style=\"text-align: right;\">\n      <th></th>\n      <th>ID</th>\n      <th>FNAME</th>\n      <th>LNAME</th>\n      <th>CITY</th>\n      <th>CCODE</th>\n    </tr>\n  </thead>\n  <tbody>\n    <tr>\n      <th>0</th>\n      <td>1</td>\n      <td>Rav</td>\n      <td>Ahuja</td>\n      <td>MOOSETOWN</td>\n      <td>CA</td>\n    </tr>\n    <tr>\n      <th>1</th>\n      <td>2</td>\n      <td>Raul</td>\n      <td>Chong</td>\n      <td>Markham</td>\n      <td>CA</td>\n    </tr>\n    <tr>\n      <th>2</th>\n      <td>3</td>\n      <td>Hima</td>\n      <td>Vasudevan</td>\n      <td>Chicago</td>\n      <td>US</td>\n    </tr>\n  </tbody>\n</table>\n</div>"
     },
     "metadata": {},
     "execution_count": 39
    }
   ],
   "source": [
    "pdf"
   ]
  },
  {
   "cell_type": "code",
   "execution_count": 40,
   "metadata": {},
   "outputs": [
    {
     "output_type": "execute_result",
     "data": {
      "text/plain": [
       "(3, 5)"
      ]
     },
     "metadata": {},
     "execution_count": 40
    }
   ],
   "source": [
    "pdf.shape"
   ]
  },
  {
   "source": [
    "## Select table from table name"
   ],
   "cell_type": "markdown",
   "metadata": {}
  },
  {
   "cell_type": "code",
   "execution_count": 43,
   "metadata": {},
   "outputs": [
    {
     "output_type": "execute_result",
     "data": {
      "text/plain": [
       "  TABSCHEMA  TABNAME     OWNER OWNERTYPE TYPE STATUS BASE_TABSCHEMA  \\\n",
       "0  WRD87479  SCHOOLS  WRD87479         U    T      N           None   \n",
       "\n",
       "  BASE_TABNAME ROWTYPESCHEMA ROWTYPENAME  ... ONCOMMIT LOGGED ONROLLBACK  \\\n",
       "0         None          None        None  ...                              \n",
       "\n",
       "     LASTUSED  CONTROL  TEMPORALTYPE  TABLEORG  EXTENDED_ROW_SIZE  \\\n",
       "0  2021-05-03                      N         R                  N   \n",
       "\n",
       "   PCTEXTENDEDROWS  REMARKS  \n",
       "0             -1.0     None  \n",
       "\n",
       "[1 rows x 85 columns]"
      ],
      "text/html": "<div>\n<style scoped>\n    .dataframe tbody tr th:only-of-type {\n        vertical-align: middle;\n    }\n\n    .dataframe tbody tr th {\n        vertical-align: top;\n    }\n\n    .dataframe thead th {\n        text-align: right;\n    }\n</style>\n<table border=\"1\" class=\"dataframe\">\n  <thead>\n    <tr style=\"text-align: right;\">\n      <th></th>\n      <th>TABSCHEMA</th>\n      <th>TABNAME</th>\n      <th>OWNER</th>\n      <th>OWNERTYPE</th>\n      <th>TYPE</th>\n      <th>STATUS</th>\n      <th>BASE_TABSCHEMA</th>\n      <th>BASE_TABNAME</th>\n      <th>ROWTYPESCHEMA</th>\n      <th>ROWTYPENAME</th>\n      <th>...</th>\n      <th>ONCOMMIT</th>\n      <th>LOGGED</th>\n      <th>ONROLLBACK</th>\n      <th>LASTUSED</th>\n      <th>CONTROL</th>\n      <th>TEMPORALTYPE</th>\n      <th>TABLEORG</th>\n      <th>EXTENDED_ROW_SIZE</th>\n      <th>PCTEXTENDEDROWS</th>\n      <th>REMARKS</th>\n    </tr>\n  </thead>\n  <tbody>\n    <tr>\n      <th>0</th>\n      <td>WRD87479</td>\n      <td>SCHOOLS</td>\n      <td>WRD87479</td>\n      <td>U</td>\n      <td>T</td>\n      <td>N</td>\n      <td>None</td>\n      <td>None</td>\n      <td>None</td>\n      <td>None</td>\n      <td>...</td>\n      <td></td>\n      <td></td>\n      <td></td>\n      <td>2021-05-03</td>\n      <td></td>\n      <td>N</td>\n      <td>R</td>\n      <td>N</td>\n      <td>-1.0</td>\n      <td>None</td>\n    </tr>\n  </tbody>\n</table>\n<p>1 rows × 85 columns</p>\n</div>"
     },
     "metadata": {},
     "execution_count": 43
    }
   ],
   "source": [
    "selectQuery = \"select * from SYSCAT.TABLES where TABNAME = 'SCHOOLS'\"\n",
    "\n",
    "# to pandas frame\n",
    "pdf = pd.read_sql(selectQuery, pconn)\n",
    "\n",
    "pdf.head()"
   ]
  },
  {
   "source": [
    "## Check number of Elementary school"
   ],
   "cell_type": "markdown",
   "metadata": {}
  },
  {
   "cell_type": "code",
   "execution_count": 44,
   "metadata": {},
   "outputs": [
    {
     "output_type": "execute_result",
     "data": {
      "text/plain": [
       "       1\n",
       "0  462.0"
      ],
      "text/html": "<div>\n<style scoped>\n    .dataframe tbody tr th:only-of-type {\n        vertical-align: middle;\n    }\n\n    .dataframe tbody tr th {\n        vertical-align: top;\n    }\n\n    .dataframe thead th {\n        text-align: right;\n    }\n</style>\n<table border=\"1\" class=\"dataframe\">\n  <thead>\n    <tr style=\"text-align: right;\">\n      <th></th>\n      <th>1</th>\n    </tr>\n  </thead>\n  <tbody>\n    <tr>\n      <th>0</th>\n      <td>462.0</td>\n    </tr>\n  </tbody>\n</table>\n</div>"
     },
     "metadata": {},
     "execution_count": 44
    }
   ],
   "source": [
    "selectQuery = \"select count(*) from SCHOOLS where school_type = 'ES'\"\n",
    "# to pandas frame\n",
    "pdf = pd.read_sql(selectQuery, pconn)\n",
    "\n",
    "pdf.head()"
   ]
  },
  {
   "source": [
    "## Check highest safety score"
   ],
   "cell_type": "markdown",
   "metadata": {}
  },
  {
   "cell_type": "code",
   "execution_count": 45,
   "metadata": {},
   "outputs": [
    {
     "output_type": "execute_result",
     "data": {
      "text/plain": [
       "    1\n",
       "0  99"
      ],
      "text/html": "<div>\n<style scoped>\n    .dataframe tbody tr th:only-of-type {\n        vertical-align: middle;\n    }\n\n    .dataframe tbody tr th {\n        vertical-align: top;\n    }\n\n    .dataframe thead th {\n        text-align: right;\n    }\n</style>\n<table border=\"1\" class=\"dataframe\">\n  <thead>\n    <tr style=\"text-align: right;\">\n      <th></th>\n      <th>1</th>\n    </tr>\n  </thead>\n  <tbody>\n    <tr>\n      <th>0</th>\n      <td>99</td>\n    </tr>\n  </tbody>\n</table>\n</div>"
     },
     "metadata": {},
     "execution_count": 45
    }
   ],
   "source": [
    "selectQuery = \"select MAX(SAFETY_SCORE) from SCHOOLS\"\n",
    "# to pandas frame\n",
    "pdf = pd.read_sql(selectQuery, pconn)\n",
    "\n",
    "pdf.head()"
   ]
  },
  {
   "source": [
    "## Which schools have the highest safety score"
   ],
   "cell_type": "markdown",
   "metadata": {}
  },
  {
   "cell_type": "code",
   "execution_count": 46,
   "metadata": {},
   "outputs": [
    {
     "output_type": "execute_result",
     "data": {
      "text/plain": [
       "                                 NAME_OF_SCHOOL\n",
       "0             Abraham Lincoln Elementary School\n",
       "1       Alexander Graham Bell Elementary School\n",
       "2  Annie Keller Elementary Gifted Magnet School\n",
       "3           Augustus H Burley Elementary School\n",
       "4   Edgar Allan Poe Elementary Classical School"
      ],
      "text/html": "<div>\n<style scoped>\n    .dataframe tbody tr th:only-of-type {\n        vertical-align: middle;\n    }\n\n    .dataframe tbody tr th {\n        vertical-align: top;\n    }\n\n    .dataframe thead th {\n        text-align: right;\n    }\n</style>\n<table border=\"1\" class=\"dataframe\">\n  <thead>\n    <tr style=\"text-align: right;\">\n      <th></th>\n      <th>NAME_OF_SCHOOL</th>\n    </tr>\n  </thead>\n  <tbody>\n    <tr>\n      <th>0</th>\n      <td>Abraham Lincoln Elementary School</td>\n    </tr>\n    <tr>\n      <th>1</th>\n      <td>Alexander Graham Bell Elementary School</td>\n    </tr>\n    <tr>\n      <th>2</th>\n      <td>Annie Keller Elementary Gifted Magnet School</td>\n    </tr>\n    <tr>\n      <th>3</th>\n      <td>Augustus H Burley Elementary School</td>\n    </tr>\n    <tr>\n      <th>4</th>\n      <td>Edgar Allan Poe Elementary Classical School</td>\n    </tr>\n  </tbody>\n</table>\n</div>"
     },
     "metadata": {},
     "execution_count": 46
    }
   ],
   "source": [
    "selectQuery = \"select NAME_OF_SCHOOL from SCHOOLS where Safety_Score = (select MAX(SAFETY_SCORE) from SCHOOLS)\"\n",
    "# to pandas frame\n",
    "pdf = pd.read_sql(selectQuery, pconn)\n",
    "\n",
    "pdf.head()"
   ]
  },
  {
   "source": [
    "## Top 10 schools with the highest Average student attendance"
   ],
   "cell_type": "markdown",
   "metadata": {}
  },
  {
   "cell_type": "code",
   "execution_count": 51,
   "metadata": {},
   "outputs": [
    {
     "output_type": "execute_result",
     "data": {
      "text/plain": [
       "                                  NAME_OF_SCHOOL\n",
       "0          Velma F Thomas Early Childhood Center\n",
       "1          John Charles Haines Elementary School\n",
       "2                   James Ward Elementary School\n",
       "3    Edgar Allan Poe Elementary Classical School\n",
       "4                Rachel Carson Elementary School\n",
       "5  Orozco Fine Arts & Sciences Elementary School\n",
       "6   Annie Keller Elementary Gifted Magnet School\n",
       "7     Andrew Jackson Elementary Language Academy\n",
       "8       Lenart Elementary Regional Gifted Center\n",
       "9                        Disney II Magnet School"
      ],
      "text/html": "<div>\n<style scoped>\n    .dataframe tbody tr th:only-of-type {\n        vertical-align: middle;\n    }\n\n    .dataframe tbody tr th {\n        vertical-align: top;\n    }\n\n    .dataframe thead th {\n        text-align: right;\n    }\n</style>\n<table border=\"1\" class=\"dataframe\">\n  <thead>\n    <tr style=\"text-align: right;\">\n      <th></th>\n      <th>NAME_OF_SCHOOL</th>\n    </tr>\n  </thead>\n  <tbody>\n    <tr>\n      <th>0</th>\n      <td>Velma F Thomas Early Childhood Center</td>\n    </tr>\n    <tr>\n      <th>1</th>\n      <td>John Charles Haines Elementary School</td>\n    </tr>\n    <tr>\n      <th>2</th>\n      <td>James Ward Elementary School</td>\n    </tr>\n    <tr>\n      <th>3</th>\n      <td>Edgar Allan Poe Elementary Classical School</td>\n    </tr>\n    <tr>\n      <th>4</th>\n      <td>Rachel Carson Elementary School</td>\n    </tr>\n    <tr>\n      <th>5</th>\n      <td>Orozco Fine Arts &amp; Sciences Elementary School</td>\n    </tr>\n    <tr>\n      <th>6</th>\n      <td>Annie Keller Elementary Gifted Magnet School</td>\n    </tr>\n    <tr>\n      <th>7</th>\n      <td>Andrew Jackson Elementary Language Academy</td>\n    </tr>\n    <tr>\n      <th>8</th>\n      <td>Lenart Elementary Regional Gifted Center</td>\n    </tr>\n    <tr>\n      <th>9</th>\n      <td>Disney II Magnet School</td>\n    </tr>\n  </tbody>\n</table>\n</div>"
     },
     "metadata": {},
     "execution_count": 51
    }
   ],
   "source": [
    "selectQuery = \"select NAME_OF_SCHOOL from SCHOOLS order by AVERAGE_STUDENT_ATTENDANCE Desc limit 10\"\n",
    "# to pandas frame\n",
    "pdf = pd.read_sql(selectQuery, pconn)\n",
    "\n",
    "pdf.head(10)"
   ]
  },
  {
   "source": [
    "## Retrieve list of 5 schools with the lowest Average Student Attendance sorted in ascending order based on attendance"
   ],
   "cell_type": "markdown",
   "metadata": {}
  },
  {
   "cell_type": "code",
   "execution_count": 50,
   "metadata": {},
   "outputs": [
    {
     "output_type": "execute_result",
     "data": {
      "text/plain": [
       "                                      NAME_OF_SCHOOL  \\\n",
       "0  Richard T Crane Technical Preparatory High School   \n",
       "1       Barbara Vick Early Childhood & Family Center   \n",
       "2                                  Dyett High School   \n",
       "3               Wendell Phillips Academy High School   \n",
       "4                            Orr Academy High School   \n",
       "\n",
       "  AVERAGE_STUDENT_ATTENDANCE  \n",
       "0                     57.90%  \n",
       "1                     60.90%  \n",
       "2                     62.50%  \n",
       "3                     63.00%  \n",
       "4                     66.30%  "
      ],
      "text/html": "<div>\n<style scoped>\n    .dataframe tbody tr th:only-of-type {\n        vertical-align: middle;\n    }\n\n    .dataframe tbody tr th {\n        vertical-align: top;\n    }\n\n    .dataframe thead th {\n        text-align: right;\n    }\n</style>\n<table border=\"1\" class=\"dataframe\">\n  <thead>\n    <tr style=\"text-align: right;\">\n      <th></th>\n      <th>NAME_OF_SCHOOL</th>\n      <th>AVERAGE_STUDENT_ATTENDANCE</th>\n    </tr>\n  </thead>\n  <tbody>\n    <tr>\n      <th>0</th>\n      <td>Richard T Crane Technical Preparatory High School</td>\n      <td>57.90%</td>\n    </tr>\n    <tr>\n      <th>1</th>\n      <td>Barbara Vick Early Childhood &amp; Family Center</td>\n      <td>60.90%</td>\n    </tr>\n    <tr>\n      <th>2</th>\n      <td>Dyett High School</td>\n      <td>62.50%</td>\n    </tr>\n    <tr>\n      <th>3</th>\n      <td>Wendell Phillips Academy High School</td>\n      <td>63.00%</td>\n    </tr>\n    <tr>\n      <th>4</th>\n      <td>Orr Academy High School</td>\n      <td>66.30%</td>\n    </tr>\n  </tbody>\n</table>\n</div>"
     },
     "metadata": {},
     "execution_count": 50
    }
   ],
   "source": [
    "selectQuery = \"select NAME_OF_SCHOOL, Average_Student_Attendance from SCHOOLS order by AVERAGE_STUDENT_ATTENDANCE limit 5\"\n",
    "# to pandas frame\n",
    "pdf = pd.read_sql(selectQuery, pconn)\n",
    "\n",
    "pdf.head()"
   ]
  },
  {
   "source": [
    "## Remove the % sign from above result"
   ],
   "cell_type": "markdown",
   "metadata": {}
  },
  {
   "cell_type": "code",
   "execution_count": 59,
   "metadata": {},
   "outputs": [
    {
     "output_type": "execute_result",
     "data": {
      "text/plain": [
       "                                      NAME_OF_SCHOOL AVE_STU\n",
       "0  Richard T Crane Technical Preparatory High School   57.90\n",
       "1       Barbara Vick Early Childhood & Family Center   60.90\n",
       "2                                  Dyett High School   62.50\n",
       "3               Wendell Phillips Academy High School   63.00\n",
       "4                            Orr Academy High School   66.30"
      ],
      "text/html": "<div>\n<style scoped>\n    .dataframe tbody tr th:only-of-type {\n        vertical-align: middle;\n    }\n\n    .dataframe tbody tr th {\n        vertical-align: top;\n    }\n\n    .dataframe thead th {\n        text-align: right;\n    }\n</style>\n<table border=\"1\" class=\"dataframe\">\n  <thead>\n    <tr style=\"text-align: right;\">\n      <th></th>\n      <th>NAME_OF_SCHOOL</th>\n      <th>AVE_STU</th>\n    </tr>\n  </thead>\n  <tbody>\n    <tr>\n      <th>0</th>\n      <td>Richard T Crane Technical Preparatory High School</td>\n      <td>57.90</td>\n    </tr>\n    <tr>\n      <th>1</th>\n      <td>Barbara Vick Early Childhood &amp; Family Center</td>\n      <td>60.90</td>\n    </tr>\n    <tr>\n      <th>2</th>\n      <td>Dyett High School</td>\n      <td>62.50</td>\n    </tr>\n    <tr>\n      <th>3</th>\n      <td>Wendell Phillips Academy High School</td>\n      <td>63.00</td>\n    </tr>\n    <tr>\n      <th>4</th>\n      <td>Orr Academy High School</td>\n      <td>66.30</td>\n    </tr>\n  </tbody>\n</table>\n</div>"
     },
     "metadata": {},
     "execution_count": 59
    }
   ],
   "source": [
    "selectQuery = \"select NAME_OF_SCHOOL, Replace(Average_Student_Attendance, '%', '') As Ave_Stu from SCHOOLS order by AVERAGE_STUDENT_ATTENDANCE limit 5\"\n",
    "# to pandas frame\n",
    "pdf = pd.read_sql(selectQuery, pconn)\n",
    "\n",
    "pdf.head()"
   ]
  },
  {
   "source": [
    "## Which shcools have Average Student Attendance lower than 70%"
   ],
   "cell_type": "markdown",
   "metadata": {}
  },
  {
   "cell_type": "code",
   "execution_count": 62,
   "metadata": {},
   "outputs": [
    {
     "output_type": "execute_result",
     "data": {
      "text/plain": [
       "                                  NAME_OF_SCHOOL AVE_STU\n",
       "0   Barbara Vick Early Childhood & Family Center   60.90\n",
       "1  Chicago Vocational Career Academy High School   68.80\n",
       "2                              Dyett High School   62.50\n",
       "3              Manley Career Academy High School   66.80\n",
       "4                        Orr Academy High School   66.30"
      ],
      "text/html": "<div>\n<style scoped>\n    .dataframe tbody tr th:only-of-type {\n        vertical-align: middle;\n    }\n\n    .dataframe tbody tr th {\n        vertical-align: top;\n    }\n\n    .dataframe thead th {\n        text-align: right;\n    }\n</style>\n<table border=\"1\" class=\"dataframe\">\n  <thead>\n    <tr style=\"text-align: right;\">\n      <th></th>\n      <th>NAME_OF_SCHOOL</th>\n      <th>AVE_STU</th>\n    </tr>\n  </thead>\n  <tbody>\n    <tr>\n      <th>0</th>\n      <td>Barbara Vick Early Childhood &amp; Family Center</td>\n      <td>60.90</td>\n    </tr>\n    <tr>\n      <th>1</th>\n      <td>Chicago Vocational Career Academy High School</td>\n      <td>68.80</td>\n    </tr>\n    <tr>\n      <th>2</th>\n      <td>Dyett High School</td>\n      <td>62.50</td>\n    </tr>\n    <tr>\n      <th>3</th>\n      <td>Manley Career Academy High School</td>\n      <td>66.80</td>\n    </tr>\n    <tr>\n      <th>4</th>\n      <td>Orr Academy High School</td>\n      <td>66.30</td>\n    </tr>\n  </tbody>\n</table>\n</div>"
     },
     "metadata": {},
     "execution_count": 62
    }
   ],
   "source": [
    "selectQuery = \"select NAME_OF_SCHOOL, Replace(Average_Student_Attendance, '%', '') As Ave_Stu from SCHOOLS where Replace(Average_Student_Attendance, '%', '') < 70\"\n",
    "# to pandas frame\n",
    "pdf = pd.read_sql(selectQuery, pconn)\n",
    "\n",
    "pdf.head()"
   ]
  },
  {
   "source": [
    "## Get the total College Enrollment for each Community Area"
   ],
   "cell_type": "markdown",
   "metadata": {}
  },
  {
   "cell_type": "code",
   "execution_count": 64,
   "metadata": {},
   "outputs": [
    {
     "output_type": "execute_result",
     "data": {
      "text/plain": [
       "  COMMUNITY_AREA_NAME  COL_EN_SUM\n",
       "0         ALBANY PARK        6864\n",
       "1      ARCHER HEIGHTS        4823\n",
       "2       ARMOUR SQUARE        1458\n",
       "3             ASHBURN        6483\n",
       "4      AUBURN GRESHAM        4175"
      ],
      "text/html": "<div>\n<style scoped>\n    .dataframe tbody tr th:only-of-type {\n        vertical-align: middle;\n    }\n\n    .dataframe tbody tr th {\n        vertical-align: top;\n    }\n\n    .dataframe thead th {\n        text-align: right;\n    }\n</style>\n<table border=\"1\" class=\"dataframe\">\n  <thead>\n    <tr style=\"text-align: right;\">\n      <th></th>\n      <th>COMMUNITY_AREA_NAME</th>\n      <th>COL_EN_SUM</th>\n    </tr>\n  </thead>\n  <tbody>\n    <tr>\n      <th>0</th>\n      <td>ALBANY PARK</td>\n      <td>6864</td>\n    </tr>\n    <tr>\n      <th>1</th>\n      <td>ARCHER HEIGHTS</td>\n      <td>4823</td>\n    </tr>\n    <tr>\n      <th>2</th>\n      <td>ARMOUR SQUARE</td>\n      <td>1458</td>\n    </tr>\n    <tr>\n      <th>3</th>\n      <td>ASHBURN</td>\n      <td>6483</td>\n    </tr>\n    <tr>\n      <th>4</th>\n      <td>AUBURN GRESHAM</td>\n      <td>4175</td>\n    </tr>\n  </tbody>\n</table>\n</div>"
     },
     "metadata": {},
     "execution_count": 64
    }
   ],
   "source": [
    "selectQuery = \"select COMMUNITY_AREA_NAME, sum(COLLEGE_ENROLLMENT) as Col_En_sum from SCHOOLS group by COMMUNITY_AREA_NAME\"\n",
    "# to pandas frame\n",
    "pdf = pd.read_sql(selectQuery, pconn)\n",
    "\n",
    "pdf.head()"
   ]
  },
  {
   "source": [
    "## Get the 5 community Areas with the least total College Enrollment sorted in ascending order"
   ],
   "cell_type": "markdown",
   "metadata": {}
  },
  {
   "cell_type": "code",
   "execution_count": 65,
   "metadata": {},
   "outputs": [
    {
     "output_type": "execute_result",
     "data": {
      "text/plain": [
       "  COMMUNITY_AREA_NAME  TOTAL_ENROLLMENT\n",
       "0             OAKLAND               140\n",
       "1         FULLER PARK               531\n",
       "2            BURNSIDE               549\n",
       "3               OHARE               786\n",
       "4                LOOP               871"
      ],
      "text/html": "<div>\n<style scoped>\n    .dataframe tbody tr th:only-of-type {\n        vertical-align: middle;\n    }\n\n    .dataframe tbody tr th {\n        vertical-align: top;\n    }\n\n    .dataframe thead th {\n        text-align: right;\n    }\n</style>\n<table border=\"1\" class=\"dataframe\">\n  <thead>\n    <tr style=\"text-align: right;\">\n      <th></th>\n      <th>COMMUNITY_AREA_NAME</th>\n      <th>TOTAL_ENROLLMENT</th>\n    </tr>\n  </thead>\n  <tbody>\n    <tr>\n      <th>0</th>\n      <td>OAKLAND</td>\n      <td>140</td>\n    </tr>\n    <tr>\n      <th>1</th>\n      <td>FULLER PARK</td>\n      <td>531</td>\n    </tr>\n    <tr>\n      <th>2</th>\n      <td>BURNSIDE</td>\n      <td>549</td>\n    </tr>\n    <tr>\n      <th>3</th>\n      <td>OHARE</td>\n      <td>786</td>\n    </tr>\n    <tr>\n      <th>4</th>\n      <td>LOOP</td>\n      <td>871</td>\n    </tr>\n  </tbody>\n</table>\n</div>"
     },
     "metadata": {},
     "execution_count": 65
    }
   ],
   "source": [
    "selectQuery = \"select COMMUNITY_AREA_NAME, sum(COLLEGE_ENROLLMENT) as total_enrollment from SCHOOLS group by COMMUNITY_AREA_NAME order by total_enrollment asc limit 5\"\n",
    "# to pandas frame\n",
    "pdf = pd.read_sql(selectQuery, pconn)\n",
    "\n",
    "pdf.head()"
   ]
  },
  {
   "source": [
    "# Close the connection"
   ],
   "cell_type": "markdown",
   "metadata": {}
  },
  {
   "cell_type": "code",
   "execution_count": 21,
   "metadata": {},
   "outputs": [
    {
     "output_type": "execute_result",
     "data": {
      "text/plain": [
       "True"
      ]
     },
     "metadata": {},
     "execution_count": 21
    }
   ],
   "source": [
    "ibm_db.close(conn)"
   ]
  }
 ]
}